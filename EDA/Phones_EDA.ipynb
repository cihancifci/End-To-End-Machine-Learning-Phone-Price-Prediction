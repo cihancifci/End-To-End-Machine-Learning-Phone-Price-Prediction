{
 "cells": [
  {
   "cell_type": "code",
   "execution_count": 1,
   "metadata": {},
   "outputs": [],
   "source": [
    "import pandas as pd\n",
    "import numpy as np\n",
    "import matplotlib.pyplot as plt\n",
    "import seaborn as sns"
   ]
  },
  {
   "cell_type": "code",
   "execution_count": 2,
   "metadata": {},
   "outputs": [],
   "source": [
    "data = pd.read_csv(\"../data/phones.csv\")"
   ]
  },
  {
   "cell_type": "code",
   "execution_count": 3,
   "metadata": {},
   "outputs": [
    {
     "name": "stdout",
     "output_type": "stream",
     "text": [
      "<class 'pandas.core.frame.DataFrame'>\n",
      "RangeIndex: 1824 entries, 0 to 1823\n",
      "Data columns (total 53 columns):\n",
      " #   Column                               Non-Null Count  Dtype  \n",
      "---  ------                               --------------  -----  \n",
      " 0   Unnamed: 0                           1824 non-null   int64  \n",
      " 1   Unnamed: 0.1                         1824 non-null   int64  \n",
      " 2   URL                                  1824 non-null   object \n",
      " 3   Price                                1824 non-null   object \n",
      " 4   Marka                                1824 non-null   object \n",
      " 5   Model                                1823 non-null   object \n",
      " 6   İşletim Sistemi                      1810 non-null   object \n",
      " 7   Ön Kamera Çözünürlüğü                1770 non-null   object \n",
      " 8   Arka Kamera Çözünürlüğü              1823 non-null   object \n",
      " 9   Bellek Kapasitesi                    1823 non-null   object \n",
      " 10  Batarya Kapasitesi                   1823 non-null   object \n",
      " 11  Ekran Boyutu                         1823 non-null   object \n",
      " 12  Ekran Çözünürlüğü                    1817 non-null   object \n",
      " 13  Garanti Türü                         1817 non-null   object \n",
      " 14  Hızlı Şarj Özelliği                  1352 non-null   object \n",
      " 15  Çift Hatlı                           1426 non-null   object \n",
      " 16  Toza Dayanıklılık                    850 non-null    object \n",
      " 17  En                                   1757 non-null   object \n",
      " 18  NFC                                  1450 non-null   object \n",
      " 19  GPS                                  1814 non-null   object \n",
      " 20  Hafıza Kartı Desteği                 1657 non-null   object \n",
      " 21  Yonga Seti (Chipset)                 1658 non-null   object \n",
      " 22  4.5G Desteği                         1676 non-null   object \n",
      " 23  İşlemci                              1684 non-null   object \n",
      " 24  Bluetooth Sürüm                      1722 non-null   float64\n",
      " 25  Arka Kamera Video Kayıt Çözünürlüğü  1617 non-null   object \n",
      " 26  CPU Frekansı                         1663 non-null   object \n",
      " 27  Ekran / Gövde Oranı                  1644 non-null   object \n",
      " 28  Optik Görüntü Sabitleyici            1045 non-null   object \n",
      " 29  Çözünürlük Standardı                 1594 non-null   object \n",
      " 30  USB Bağlantı Tipi                    1613 non-null   object \n",
      " 31  USB Versiyonu                        1457 non-null   object \n",
      " 32  Boy                                  1764 non-null   object \n",
      " 33  İkinci Arka Kamera Çözünürlüğü       1577 non-null   object \n",
      " 34  Kalınlık                             1764 non-null   object \n",
      " 35  Suya Dayanıklılık                    942 non-null    object \n",
      " 36  Parmak izi Okuyucu                   1494 non-null   object \n",
      " 37  Üçüncü Arka Kamera Çözünürlüğü       1212 non-null   object \n",
      " 38  Ağırlık                              1768 non-null   object \n",
      " 39  Arka Kamera Video FPS Değeri         1633 non-null   object \n",
      " 40  Dördüncü Arka Kamera Çözünürlüğü     759 non-null    object \n",
      " 41  CPU Çekirdeği                        1665 non-null   float64\n",
      " 42  Ekran Tipi                           1780 non-null   object \n",
      " 43  5G Desteği                           935 non-null    object \n",
      " 44  Yüz Tanıma                           888 non-null    object \n",
      " 45  Toza Dayanıklılık Seviyesi           401 non-null    object \n",
      " 46  Suya Dayanıklılık Seviyesi           493 non-null    object \n",
      " 47  1.Yardımcı İşlemci                   162 non-null    object \n",
      " 48  İkinci Ön Kamera Çözünürlüğü         35 non-null     object \n",
      " 49  Kamera Zoom                          225 non-null    object \n",
      " 50  2.Yardımcı İşlemci                   21 non-null     object \n",
      " 51  Beşinci Arka Kamera Çözünürlüğü      3 non-null      object \n",
      " 52  Dahili_Hafiza                        1824 non-null   float64\n",
      "dtypes: float64(3), int64(2), object(48)\n",
      "memory usage: 755.4+ KB\n"
     ]
    }
   ],
   "source": [
    "data.info()"
   ]
  },
  {
   "cell_type": "code",
   "execution_count": 4,
   "metadata": {},
   "outputs": [],
   "source": [
    "data = data.drop(['Unnamed: 0', 'Beşinci Arka Kamera Çözünürlüğü','2.Yardımcı İşlemci','İkinci Ön Kamera Çözünürlüğü',\n",
    "            'Kamera Zoom','1.Yardımcı İşlemci','Suya Dayanıklılık Seviyesi','Toza Dayanıklılık Seviyesi'], axis=1)"
   ]
  },
  {
   "cell_type": "code",
   "execution_count": 5,
   "metadata": {},
   "outputs": [
    {
     "data": {
      "text/plain": [
       "Index(['Unnamed: 0.1', 'URL', 'Price', 'Marka', 'Model', 'İşletim Sistemi',\n",
       "       'Ön Kamera Çözünürlüğü', 'Arka Kamera Çözünürlüğü', 'Bellek Kapasitesi',\n",
       "       'Batarya Kapasitesi', 'Ekran Boyutu', 'Ekran Çözünürlüğü',\n",
       "       'Garanti Türü', 'Hızlı Şarj Özelliği', 'Çift Hatlı',\n",
       "       'Toza Dayanıklılık', 'En', 'NFC', 'GPS', 'Hafıza Kartı Desteği',\n",
       "       'Yonga Seti (Chipset)', '4.5G Desteği', 'İşlemci', 'Bluetooth Sürüm',\n",
       "       'Arka Kamera Video Kayıt Çözünürlüğü', 'CPU Frekansı',\n",
       "       'Ekran / Gövde Oranı', 'Optik Görüntü Sabitleyici',\n",
       "       'Çözünürlük Standardı', 'USB Bağlantı Tipi', 'USB Versiyonu', 'Boy',\n",
       "       'İkinci Arka Kamera Çözünürlüğü', 'Kalınlık', 'Suya Dayanıklılık',\n",
       "       'Parmak izi Okuyucu', 'Üçüncü Arka Kamera Çözünürlüğü', 'Ağırlık',\n",
       "       'Arka Kamera Video FPS Değeri', 'Dördüncü Arka Kamera Çözünürlüğü',\n",
       "       'CPU Çekirdeği', 'Ekran Tipi', '5G Desteği', 'Yüz Tanıma',\n",
       "       'Dahili_Hafiza'],\n",
       "      dtype='object')"
      ]
     },
     "execution_count": 5,
     "metadata": {},
     "output_type": "execute_result"
    }
   ],
   "source": [
    "data.columns"
   ]
  },
  {
   "cell_type": "code",
   "execution_count": 6,
   "metadata": {},
   "outputs": [
    {
     "data": {
      "text/html": [
       "<div>\n",
       "<style scoped>\n",
       "    .dataframe tbody tr th:only-of-type {\n",
       "        vertical-align: middle;\n",
       "    }\n",
       "\n",
       "    .dataframe tbody tr th {\n",
       "        vertical-align: top;\n",
       "    }\n",
       "\n",
       "    .dataframe thead th {\n",
       "        text-align: right;\n",
       "    }\n",
       "</style>\n",
       "<table border=\"1\" class=\"dataframe\">\n",
       "  <thead>\n",
       "    <tr style=\"text-align: right;\">\n",
       "      <th></th>\n",
       "      <th>Unnamed: 0.1</th>\n",
       "      <th>URL</th>\n",
       "      <th>Price</th>\n",
       "      <th>Marka</th>\n",
       "      <th>Model</th>\n",
       "      <th>İşletim Sistemi</th>\n",
       "      <th>Ön Kamera Çözünürlüğü</th>\n",
       "      <th>Arka Kamera Çözünürlüğü</th>\n",
       "      <th>Bellek Kapasitesi</th>\n",
       "      <th>Batarya Kapasitesi</th>\n",
       "      <th>...</th>\n",
       "      <th>Parmak izi Okuyucu</th>\n",
       "      <th>Üçüncü Arka Kamera Çözünürlüğü</th>\n",
       "      <th>Ağırlık</th>\n",
       "      <th>Arka Kamera Video FPS Değeri</th>\n",
       "      <th>Dördüncü Arka Kamera Çözünürlüğü</th>\n",
       "      <th>CPU Çekirdeği</th>\n",
       "      <th>Ekran Tipi</th>\n",
       "      <th>5G Desteği</th>\n",
       "      <th>Yüz Tanıma</th>\n",
       "      <th>Dahili_Hafiza</th>\n",
       "    </tr>\n",
       "  </thead>\n",
       "  <tbody>\n",
       "    <tr>\n",
       "      <th>0</th>\n",
       "      <td>0</td>\n",
       "      <td>https://www.n11.com/urun/samsung-galaxy-m51-du...</td>\n",
       "      <td>4.999,00</td>\n",
       "      <td>Samsung</td>\n",
       "      <td>M51</td>\n",
       "      <td>Android</td>\n",
       "      <td>32 MP</td>\n",
       "      <td>64 MP</td>\n",
       "      <td>8 GB</td>\n",
       "      <td>7000 mAh</td>\n",
       "      <td>...</td>\n",
       "      <td>Var</td>\n",
       "      <td>5 MP</td>\n",
       "      <td>213 G</td>\n",
       "      <td>30 fps</td>\n",
       "      <td>5 MP</td>\n",
       "      <td>8.0</td>\n",
       "      <td>Super Amoled</td>\n",
       "      <td>Yok</td>\n",
       "      <td>NaN</td>\n",
       "      <td>128.0</td>\n",
       "    </tr>\n",
       "    <tr>\n",
       "      <th>1</th>\n",
       "      <td>1</td>\n",
       "      <td>https://www.n11.com/urun/samsung-galaxy-m31-12...</td>\n",
       "      <td>3.239,00</td>\n",
       "      <td>Samsung</td>\n",
       "      <td>Galaxy M31</td>\n",
       "      <td>Android</td>\n",
       "      <td>32 MP</td>\n",
       "      <td>64 MP</td>\n",
       "      <td>6 GB</td>\n",
       "      <td>6000 mAh</td>\n",
       "      <td>...</td>\n",
       "      <td>Var</td>\n",
       "      <td>5 MP</td>\n",
       "      <td>191 G</td>\n",
       "      <td>30 fps</td>\n",
       "      <td>5 MP</td>\n",
       "      <td>8.0</td>\n",
       "      <td>Super AMOLED</td>\n",
       "      <td>Yok</td>\n",
       "      <td>NaN</td>\n",
       "      <td>128.0</td>\n",
       "    </tr>\n",
       "    <tr>\n",
       "      <th>2</th>\n",
       "      <td>2</td>\n",
       "      <td>https://www.n11.com/urun/samsung-galaxy-m21-du...</td>\n",
       "      <td>2.609,90</td>\n",
       "      <td>Samsung</td>\n",
       "      <td>Galaxy M21 Duos</td>\n",
       "      <td>Android</td>\n",
       "      <td>20 MP</td>\n",
       "      <td>48 MP</td>\n",
       "      <td>4 GB</td>\n",
       "      <td>6000 mAh</td>\n",
       "      <td>...</td>\n",
       "      <td>Var</td>\n",
       "      <td>5 MP</td>\n",
       "      <td>188 G</td>\n",
       "      <td>30 fps</td>\n",
       "      <td>NaN</td>\n",
       "      <td>8.0</td>\n",
       "      <td>Super AMOLED</td>\n",
       "      <td>NaN</td>\n",
       "      <td>Var</td>\n",
       "      <td>64.0</td>\n",
       "    </tr>\n",
       "    <tr>\n",
       "      <th>3</th>\n",
       "      <td>3</td>\n",
       "      <td>https://www.n11.com/urun/xiaomi-poco-x3-nfc-12...</td>\n",
       "      <td>3.790,00</td>\n",
       "      <td>Xiaomi</td>\n",
       "      <td>X3 NFC</td>\n",
       "      <td>Android</td>\n",
       "      <td>20 MP</td>\n",
       "      <td>64 MP</td>\n",
       "      <td>6 GB</td>\n",
       "      <td>5160 mAh</td>\n",
       "      <td>...</td>\n",
       "      <td>Var</td>\n",
       "      <td>2 MP</td>\n",
       "      <td>215 G</td>\n",
       "      <td>30 fps</td>\n",
       "      <td>2 MP</td>\n",
       "      <td>8.0</td>\n",
       "      <td>IPS LCD</td>\n",
       "      <td>NaN</td>\n",
       "      <td>Var</td>\n",
       "      <td>128.0</td>\n",
       "    </tr>\n",
       "    <tr>\n",
       "      <th>4</th>\n",
       "      <td>4</td>\n",
       "      <td>https://www.n11.com/urun/xiaomi-redmi-note-9-p...</td>\n",
       "      <td>3.715,00</td>\n",
       "      <td>Xiaomi</td>\n",
       "      <td>Redmi Note 9 Pro</td>\n",
       "      <td>Android</td>\n",
       "      <td>16 MP</td>\n",
       "      <td>64 MP</td>\n",
       "      <td>6 GB</td>\n",
       "      <td>5020 mAh</td>\n",
       "      <td>...</td>\n",
       "      <td>Var</td>\n",
       "      <td>5 MP</td>\n",
       "      <td>209 G</td>\n",
       "      <td>30 fps</td>\n",
       "      <td>2 MP</td>\n",
       "      <td>8.0</td>\n",
       "      <td>IPS LCD</td>\n",
       "      <td>Yok</td>\n",
       "      <td>Var</td>\n",
       "      <td>128.0</td>\n",
       "    </tr>\n",
       "    <tr>\n",
       "      <th>5</th>\n",
       "      <td>5</td>\n",
       "      <td>https://www.n11.com/urun/samsung-galaxy-m11-du...</td>\n",
       "      <td>2.340,00</td>\n",
       "      <td>Samsung</td>\n",
       "      <td>Galaxy M11</td>\n",
       "      <td>Android</td>\n",
       "      <td>8 MP</td>\n",
       "      <td>13 MP</td>\n",
       "      <td>3 GB</td>\n",
       "      <td>5000 mAh</td>\n",
       "      <td>...</td>\n",
       "      <td>NaN</td>\n",
       "      <td>5 MP</td>\n",
       "      <td>197 G</td>\n",
       "      <td>30 fps</td>\n",
       "      <td>NaN</td>\n",
       "      <td>NaN</td>\n",
       "      <td>TFT</td>\n",
       "      <td>NaN</td>\n",
       "      <td>NaN</td>\n",
       "      <td>32.0</td>\n",
       "    </tr>\n",
       "    <tr>\n",
       "      <th>6</th>\n",
       "      <td>6</td>\n",
       "      <td>https://www.n11.com/urun/xiaomi-redmi-note-9-p...</td>\n",
       "      <td>3.404,00</td>\n",
       "      <td>Xiaomi</td>\n",
       "      <td>Redmi Note 9 Pro</td>\n",
       "      <td>Android</td>\n",
       "      <td>16 MP</td>\n",
       "      <td>64 MP</td>\n",
       "      <td>6 GB</td>\n",
       "      <td>5020 mAh</td>\n",
       "      <td>...</td>\n",
       "      <td>Var</td>\n",
       "      <td>5 MP</td>\n",
       "      <td>209 G</td>\n",
       "      <td>30 fps</td>\n",
       "      <td>2 MP</td>\n",
       "      <td>8.0</td>\n",
       "      <td>IPS LCD</td>\n",
       "      <td>Yok</td>\n",
       "      <td>Var</td>\n",
       "      <td>64.0</td>\n",
       "    </tr>\n",
       "    <tr>\n",
       "      <th>7</th>\n",
       "      <td>7</td>\n",
       "      <td>https://www.n11.com/urun/apple-iphone-se-2020-...</td>\n",
       "      <td>4.983,90</td>\n",
       "      <td>Apple</td>\n",
       "      <td>iPhone SE 2020</td>\n",
       "      <td>iOS</td>\n",
       "      <td>7 MP</td>\n",
       "      <td>12 MP</td>\n",
       "      <td>3 GB</td>\n",
       "      <td>1821 mAh</td>\n",
       "      <td>...</td>\n",
       "      <td>Var</td>\n",
       "      <td>NaN</td>\n",
       "      <td>148 G</td>\n",
       "      <td>60 fps</td>\n",
       "      <td>NaN</td>\n",
       "      <td>6.0</td>\n",
       "      <td>IPS LCD</td>\n",
       "      <td>NaN</td>\n",
       "      <td>NaN</td>\n",
       "      <td>64.0</td>\n",
       "    </tr>\n",
       "    <tr>\n",
       "      <th>8</th>\n",
       "      <td>8</td>\n",
       "      <td>https://www.n11.com/urun/xiaomi-redmi-note-9-1...</td>\n",
       "      <td>2.949,90</td>\n",
       "      <td>Xiaomi</td>\n",
       "      <td>Redmi Note 9</td>\n",
       "      <td>Android</td>\n",
       "      <td>13 MP</td>\n",
       "      <td>48 MP</td>\n",
       "      <td>4 GB</td>\n",
       "      <td>5020 mAh</td>\n",
       "      <td>...</td>\n",
       "      <td>Var</td>\n",
       "      <td>2 MP</td>\n",
       "      <td>199 G</td>\n",
       "      <td>30 fps</td>\n",
       "      <td>2 MP</td>\n",
       "      <td>8.0</td>\n",
       "      <td>IPS LCD</td>\n",
       "      <td>NaN</td>\n",
       "      <td>Var</td>\n",
       "      <td>128.0</td>\n",
       "    </tr>\n",
       "    <tr>\n",
       "      <th>9</th>\n",
       "      <td>9</td>\n",
       "      <td>https://www.n11.com/urun/xiaomi-redmi-note-9-1...</td>\n",
       "      <td>2.729,90</td>\n",
       "      <td>Xiaomi</td>\n",
       "      <td>Redmi Note 9</td>\n",
       "      <td>Android</td>\n",
       "      <td>13 MP</td>\n",
       "      <td>48 MP</td>\n",
       "      <td>4 GB</td>\n",
       "      <td>5020 mAh</td>\n",
       "      <td>...</td>\n",
       "      <td>Var</td>\n",
       "      <td>2 MP</td>\n",
       "      <td>199 G</td>\n",
       "      <td>30 Fps</td>\n",
       "      <td>2 MP</td>\n",
       "      <td>8.0</td>\n",
       "      <td>Ips Lcd</td>\n",
       "      <td>Var</td>\n",
       "      <td>Var</td>\n",
       "      <td>128.0</td>\n",
       "    </tr>\n",
       "  </tbody>\n",
       "</table>\n",
       "<p>10 rows × 45 columns</p>\n",
       "</div>"
      ],
      "text/plain": [
       "   Unnamed: 0.1                                                URL  \\\n",
       "0             0  https://www.n11.com/urun/samsung-galaxy-m51-du...   \n",
       "1             1  https://www.n11.com/urun/samsung-galaxy-m31-12...   \n",
       "2             2  https://www.n11.com/urun/samsung-galaxy-m21-du...   \n",
       "3             3  https://www.n11.com/urun/xiaomi-poco-x3-nfc-12...   \n",
       "4             4  https://www.n11.com/urun/xiaomi-redmi-note-9-p...   \n",
       "5             5  https://www.n11.com/urun/samsung-galaxy-m11-du...   \n",
       "6             6  https://www.n11.com/urun/xiaomi-redmi-note-9-p...   \n",
       "7             7  https://www.n11.com/urun/apple-iphone-se-2020-...   \n",
       "8             8  https://www.n11.com/urun/xiaomi-redmi-note-9-1...   \n",
       "9             9  https://www.n11.com/urun/xiaomi-redmi-note-9-1...   \n",
       "\n",
       "        Price     Marka              Model İşletim Sistemi  \\\n",
       "0   4.999,00    Samsung                M51         Android   \n",
       "1   3.239,00    Samsung         Galaxy M31         Android   \n",
       "2   2.609,90    Samsung    Galaxy M21 Duos         Android   \n",
       "3   3.790,00     Xiaomi             X3 NFC         Android   \n",
       "4   3.715,00     Xiaomi   Redmi Note 9 Pro         Android   \n",
       "5   2.340,00    Samsung         Galaxy M11         Android   \n",
       "6   3.404,00     Xiaomi   Redmi Note 9 Pro         Android   \n",
       "7   4.983,90      Apple     iPhone SE 2020             iOS   \n",
       "8   2.949,90     Xiaomi       Redmi Note 9         Android   \n",
       "9   2.729,90     Xiaomi       Redmi Note 9         Android   \n",
       "\n",
       "  Ön Kamera Çözünürlüğü Arka Kamera Çözünürlüğü Bellek Kapasitesi  \\\n",
       "0                 32 MP                   64 MP              8 GB   \n",
       "1                 32 MP                   64 MP              6 GB   \n",
       "2                 20 MP                   48 MP              4 GB   \n",
       "3                 20 MP                   64 MP              6 GB   \n",
       "4                 16 MP                   64 MP              6 GB   \n",
       "5                  8 MP                   13 MP              3 GB   \n",
       "6                 16 MP                   64 MP              6 GB   \n",
       "7                  7 MP                   12 MP              3 GB   \n",
       "8                 13 MP                   48 MP              4 GB   \n",
       "9                 13 MP                   48 MP              4 GB   \n",
       "\n",
       "  Batarya Kapasitesi  ... Parmak izi Okuyucu Üçüncü Arka Kamera Çözünürlüğü  \\\n",
       "0           7000 mAh  ...                Var                           5 MP   \n",
       "1           6000 mAh  ...                Var                           5 MP   \n",
       "2           6000 mAh  ...                Var                           5 MP   \n",
       "3           5160 mAh  ...                Var                           2 MP   \n",
       "4           5020 mAh  ...                Var                           5 MP   \n",
       "5           5000 mAh  ...                NaN                           5 MP   \n",
       "6           5020 mAh  ...                Var                           5 MP   \n",
       "7           1821 mAh  ...                Var                            NaN   \n",
       "8           5020 mAh  ...                Var                           2 MP   \n",
       "9           5020 mAh  ...                Var                           2 MP   \n",
       "\n",
       "  Ağırlık Arka Kamera Video FPS Değeri Dördüncü Arka Kamera Çözünürlüğü  \\\n",
       "0   213 G                       30 fps                             5 MP   \n",
       "1   191 G                       30 fps                             5 MP   \n",
       "2   188 G                       30 fps                              NaN   \n",
       "3   215 G                       30 fps                             2 MP   \n",
       "4   209 G                       30 fps                             2 MP   \n",
       "5   197 G                       30 fps                              NaN   \n",
       "6   209 G                       30 fps                             2 MP   \n",
       "7   148 G                       60 fps                              NaN   \n",
       "8   199 G                       30 fps                             2 MP   \n",
       "9   199 G                       30 Fps                             2 MP   \n",
       "\n",
       "  CPU Çekirdeği     Ekran Tipi 5G Desteği Yüz Tanıma Dahili_Hafiza  \n",
       "0           8.0   Super Amoled        Yok        NaN         128.0  \n",
       "1           8.0   Super AMOLED        Yok        NaN         128.0  \n",
       "2           8.0   Super AMOLED        NaN        Var          64.0  \n",
       "3           8.0        IPS LCD        NaN        Var         128.0  \n",
       "4           8.0        IPS LCD        Yok        Var         128.0  \n",
       "5           NaN            TFT        NaN        NaN          32.0  \n",
       "6           8.0        IPS LCD        Yok        Var          64.0  \n",
       "7           6.0        IPS LCD        NaN        NaN          64.0  \n",
       "8           8.0        IPS LCD        NaN        Var         128.0  \n",
       "9           8.0        Ips Lcd        Var        Var         128.0  \n",
       "\n",
       "[10 rows x 45 columns]"
      ]
     },
     "execution_count": 6,
     "metadata": {},
     "output_type": "execute_result"
    }
   ],
   "source": [
    "data.head(10)"
   ]
  },
  {
   "cell_type": "code",
   "execution_count": 7,
   "metadata": {},
   "outputs": [
    {
     "data": {
      "image/png": "[encoded data removed]",
      "text/plain": [
       "<Figure size 1152x1152 with 1 Axes>"
      ]
     },
     "metadata": {
      "needs_background": "light"
     },
     "output_type": "display_data"
    }
   ],
   "source": [
    "plt.figure(figsize=(16,16))\n",
    "plt.subplot(2,1,1)\n",
    "sns.countplot(x='Marka',data = data,order = data['Marka'].value_counts().index)\n",
    "plt.xticks(rotation = 90)\n",
    "plt.show()"
   ]
  },
  {
   "cell_type": "code",
   "execution_count": 8,
   "metadata": {},
   "outputs": [],
   "source": [
    "for i in range(0,100):\n",
    "    data[\"Price\"] = data.Price.str.replace(',{}'.format(i), '')\n",
    "\n",
    "data[\"Price\"] = data.Price.str.replace(',00'.format(i), '')\n",
    "data[\"Price\"] = data.Price.str.replace(',01'.format(i), '')\n",
    "data[\"Price\"] = data.Price.str.replace(',02'.format(i), '')\n",
    "data[\"Price\"] = data.Price.str.replace(',03'.format(i), '')\n",
    "data[\"Price\"] = data.Price.str.replace(',04'.format(i), '')\n",
    "data[\"Price\"] = data.Price.str.replace(',05'.format(i), '')\n",
    "data[\"Price\"] = data.Price.str.replace(',06'.format(i), '')\n",
    "data[\"Price\"] = data.Price.str.replace(',07'.format(i), '')\n",
    "data[\"Price\"] = data.Price.str.replace(',08'.format(i), '')\n",
    "data[\"Price\"] = data.Price.str.replace(',09'.format(i), '')\n",
    "data[\"Price\"] = data.Price.str.replace('.', '')"
   ]
  },
  {
   "cell_type": "code",
   "execution_count": 9,
   "metadata": {},
   "outputs": [],
   "source": [
    "data[\"Price\"] = data.Price.astype(float)"
   ]
  },
  {
   "cell_type": "code",
   "execution_count": 10,
   "metadata": {},
   "outputs": [
    {
     "data": {
      "text/plain": [
       "0       49990.0\n",
       "1       32390.0\n",
       "2       26090.0\n",
       "3       37900.0\n",
       "4       37150.0\n",
       "         ...   \n",
       "1819    24990.0\n",
       "1820    33810.0\n",
       "1821    21990.0\n",
       "1822    39990.0\n",
       "1823    25390.0\n",
       "Name: Price, Length: 1824, dtype: float64"
      ]
     },
     "execution_count": 10,
     "metadata": {},
     "output_type": "execute_result"
    }
   ],
   "source": [
    "data[\"Price\"]"
   ]
  },
  {
   "cell_type": "code",
   "execution_count": 11,
   "metadata": {},
   "outputs": [
    {
     "data": {
      "text/plain": [
       "0        32 MP\n",
       "1        32 MP\n",
       "2        20 MP\n",
       "3        20 MP\n",
       "4        16 MP\n",
       "         ...  \n",
       "1819       NaN\n",
       "1820     25 MP\n",
       "1821      8 MP\n",
       "1822     16 MP\n",
       "1823      8 MP\n",
       "Name: Ön Kamera Çözünürlüğü, Length: 1824, dtype: object"
      ]
     },
     "execution_count": 11,
     "metadata": {},
     "output_type": "execute_result"
    }
   ],
   "source": [
    "data[\"Ön Kamera Çözünürlüğü\"]"
   ]
  },
  {
   "cell_type": "code",
   "execution_count": 12,
   "metadata": {},
   "outputs": [],
   "source": [
    "data=data.rename(columns = {'Ön Kamera Çözünürlüğü':'On_Kamera_cozunurlu','Arka Kamera Çözünürlüğü':'Arka_Kamera_Cozunurlugu','Bellek Kapasitesi':'Bellek_Kapasitesi','Batarya Kapasitesi':'Batarya_Kapasitesi','Ekran Boyutu':'Ekran_Boyutu','Ekran Çözünürlüğü':'Ekran_Cozunurlugu'})"
   ]
  },
  {
   "cell_type": "code",
   "execution_count": 13,
   "metadata": {},
   "outputs": [],
   "source": [
    "data[\"On_Kamera_cozunurlu\"] = data.On_Kamera_cozunurlu.str.replace('MP', '')"
   ]
  },
  {
   "cell_type": "code",
   "execution_count": 14,
   "metadata": {},
   "outputs": [
    {
     "data": {
      "text/plain": [
       "0        64 MP\n",
       "1        64 MP\n",
       "2        48 MP\n",
       "3        64 MP\n",
       "4        64 MP\n",
       "         ...  \n",
       "1819     12 MP\n",
       "1820     48 MP\n",
       "1821     13 MP\n",
       "1822     48 MP\n",
       "1823     12 MP\n",
       "Name: Arka_Kamera_Cozunurlugu, Length: 1824, dtype: object"
      ]
     },
     "execution_count": 14,
     "metadata": {},
     "output_type": "execute_result"
    }
   ],
   "source": [
    "data[\"Arka_Kamera_Cozunurlugu\"]"
   ]
  },
  {
   "cell_type": "code",
   "execution_count": 15,
   "metadata": {},
   "outputs": [],
   "source": [
    "data[\"Arka_Kamera_Cozunurlugu\"] = data.Arka_Kamera_Cozunurlugu.str.replace('MP', '')"
   ]
  },
  {
   "cell_type": "code",
   "execution_count": 16,
   "metadata": {},
   "outputs": [
    {
     "data": {
      "text/plain": [
       "0        8 GB\n",
       "1        6 GB\n",
       "2        4 GB\n",
       "3        6 GB\n",
       "4        6 GB\n",
       "        ...  \n",
       "1819     2 GB\n",
       "1820     6 GB\n",
       "1821     3 GB\n",
       "1822     6 GB\n",
       "1823     4 GB\n",
       "Name: Bellek_Kapasitesi, Length: 1824, dtype: object"
      ]
     },
     "execution_count": 16,
     "metadata": {},
     "output_type": "execute_result"
    }
   ],
   "source": [
    "data[\"Bellek_Kapasitesi\"]"
   ]
  },
  {
   "cell_type": "code",
   "execution_count": 17,
   "metadata": {},
   "outputs": [],
   "source": [
    "data[\"Bellek_Kapasitesi\"] = data.Bellek_Kapasitesi.str.replace('GB', '')"
   ]
  },
  {
   "cell_type": "code",
   "execution_count": 18,
   "metadata": {},
   "outputs": [
    {
     "data": {
      "text/plain": [
       "0        7000 mAh\n",
       "1        6000 mAh\n",
       "2        6000 mAh\n",
       "3        5160 mAh\n",
       "4        5020 mAh\n",
       "          ...    \n",
       "1819     5000 mAh\n",
       "1820     4510 mAh\n",
       "1821     4230 mAh\n",
       "1822     4500 mAh\n",
       "1823     4230 mAh\n",
       "Name: Batarya_Kapasitesi, Length: 1824, dtype: object"
      ]
     },
     "execution_count": 18,
     "metadata": {},
     "output_type": "execute_result"
    }
   ],
   "source": [
    "data[\"Batarya_Kapasitesi\"]"
   ]
  },
  {
   "cell_type": "code",
   "execution_count": 19,
   "metadata": {},
   "outputs": [],
   "source": [
    "data[\"Batarya_Kapasitesi\"] = data.Batarya_Kapasitesi.str.replace('mAh', '')\n",
    "data[\"Batarya_Kapasitesi\"] = data.Batarya_Kapasitesi.str.replace('mAH ve üzeri', '')"
   ]
  },
  {
   "cell_type": "code",
   "execution_count": 20,
   "metadata": {},
   "outputs": [
    {
     "data": {
      "text/plain": [
       "0       128.0\n",
       "1       128.0\n",
       "2        64.0\n",
       "3       128.0\n",
       "4       128.0\n",
       "        ...  \n",
       "1819     32.0\n",
       "1820    128.0\n",
       "1821     32.0\n",
       "1822     64.0\n",
       "1823     64.0\n",
       "Name: Dahili_Hafiza, Length: 1824, dtype: float64"
      ]
     },
     "execution_count": 20,
     "metadata": {},
     "output_type": "execute_result"
    }
   ],
   "source": [
    "data[\"Dahili_Hafiza\"]"
   ]
  },
  {
   "cell_type": "code",
   "execution_count": 22,
   "metadata": {},
   "outputs": [],
   "source": [
    "data[\"On_Kamera_cozunurlu\"] = data.On_Kamera_cozunurlu.astype(float)\n",
    "data[\"Arka_Kamera_Cozunurlugu\"] = data.Arka_Kamera_Cozunurlugu.astype(float)\n",
    "data[\"Bellek_Kapasitesi\"] = data.Bellek_Kapasitesi.astype(float)\n",
    "data[\"Batarya_Kapasitesi\"] = data.Batarya_Kapasitesi.astype(float)\n",
    "data[\"Dahili_Hafiza\"] = data.Dahili_Hafiza.astype(float)"
   ]
  },
  {
   "cell_type": "code",
   "execution_count": 23,
   "metadata": {},
   "outputs": [
    {
     "data": {
      "image/png": "[encoded data removed]",
      "text/plain": [
       "<Figure size 1152x1152 with 1 Axes>"
      ]
     },
     "metadata": {
      "needs_background": "light"
     },
     "output_type": "display_data"
    }
   ],
   "source": [
    "plt.figure(figsize=(16,16))\n",
    "plt.subplot(2,1,1)\n",
    "sns.countplot(x='İşletim Sistemi',data = data,order = data['İşletim Sistemi'].value_counts().index)\n",
    "plt.xticks(rotation = 90)\n",
    "plt.show()"
   ]
  },
  {
   "cell_type": "code",
   "execution_count": 24,
   "metadata": {},
   "outputs": [
    {
     "name": "stdout",
     "output_type": "stream",
     "text": [
      "Max Fiyat: 16298 TL --> https://www.n11.com/urun/apple-iphone-11-pro-max-512-gb-apple-turkiye-garantili-1166973?magaza=bittibitiyor\n",
      "Max Ön Kamera: 48.0 MP --> https://www.n11.com/urun/samsung-galaxy-a80-128-gb-samsung-turkiye-garantili-1027652?magaza=azur\n",
      "Max Arka Kamera: 108.0 MP --> https://www.n11.com/urun/samsung-galaxy-note20-ultra-256-gb-samsung-turkiye-garantili-1473762?magaza=mobilepoint\n",
      "Max Bellek Kapasitesi: 12.0 GB --> https://www.n11.com/urun/samsung-galaxy-note-10-plus-256-gb-samsung-turkiye-garantili-1035961?magaza=samsungturkiye\n",
      "Max Batarya Kapasitesi: 7000.0 mAh --> https://www.n11.com/urun/samsung-galaxy-m51-dual-sim-128-gb-samsung-turkiye-garantili-1528412?magaza=samsungturkiye\n",
      "Max Dahili Hafıza: 512.0 GB --> https://www.n11.com/urun/apple-iphone-11-pro-max-512-gb-apple-turkiye-garantili-1166973?magaza=arcell\n"
     ]
    }
   ],
   "source": [
    "print(\"Max Fiyat: \"+str(data[\"Price\"].max()).replace('0.0', '') + \" TL --> \"  + str(data[\"URL\"].loc[data[\"Price\"].idxmax()]))\n",
    "print(\"Max Ön Kamera: \"+str(data[\"On_Kamera_cozunurlu\"].max()) + \" MP --> \"  + str(data[\"URL\"].loc[data[\"On_Kamera_cozunurlu\"].idxmax()]))\n",
    "print(\"Max Arka Kamera: \"+str(data[\"Arka_Kamera_Cozunurlugu\"].max()) + \" MP --> \"+ str(data[\"URL\"].loc[data[\"Arka_Kamera_Cozunurlugu\"].idxmax()]))\n",
    "print(\"Max Bellek Kapasitesi: \"+str(data[\"Bellek_Kapasitesi\"].max()) + \" GB --> \"+ str(data[\"URL\"].loc[data[\"Bellek_Kapasitesi\"].idxmax()]))\n",
    "print(\"Max Batarya Kapasitesi: \"+str(data[\"Batarya_Kapasitesi\"].max()) + \" mAh --> \"+ str(data[\"URL\"].loc[data[\"Batarya_Kapasitesi\"].idxmax()]))\n",
    "print(\"Max Dahili Hafıza: \"+str(data[\"Dahili_Hafiza\"].max()) + \" GB --> \"+ str(data[\"URL\"].loc[data[\"Dahili_Hafiza\"].idxmax()]))"
   ]
  },
  {
   "cell_type": "code",
   "execution_count": 25,
   "metadata": {},
   "outputs": [
    {
     "name": "stdout",
     "output_type": "stream",
     "text": [
      "Min Fiyat: 695 TL --> https://www.n11.com/urun/samsung-galaxy-i8190-s3-mini-8-gb-ithalatci-garantili-1046705?magaza=bvbmarket\n",
      "Min Ön Kamera: 0.3 MP --> https://www.n11.com/urun/samsung-galaxy-i8190-s3-mini-8-gb-ithalatci-garantili-1046705?magaza=bvbmarket\n",
      "Min Arka Kamera: 5.0 MP --> https://www.n11.com/urun/c5-mobile-c5-noa-g1-8-gb-c5-mobile-turkiye-garantili-1027668?magaza=atsmarket\n",
      "Min Bellek Kapasitesi: 1.0 GB --> https://www.n11.com/urun/vestel-venus-go-8-gb-vestel-turkiye-garantili-855423?magaza=koy-sepete\n",
      "Min Batarya Kapasitesi: 1500.0 mAh --> https://www.n11.com/urun/samsung-galaxy-i8190-s3-mini-8-gb-ithalatci-garantili-1046705?magaza=bvbmarket\n",
      "Min Dahili Hafıza: 8.0 GB --> https://www.n11.com/urun/samsung-galaxy-j320-j3-2016-8-gb-duos-ithalatci-garantili-647167?magaza=teyacep\n"
     ]
    }
   ],
   "source": [
    "print(\"Min Fiyat: \"+str(data[\"Price\"].min()).replace('0.0', '') + \" TL --> \"  + str(data[\"URL\"].loc[data[\"Price\"].idxmin()]))\n",
    "print(\"Min Ön Kamera: \"+str(data[\"On_Kamera_cozunurlu\"].min()) + \" MP --> \"  + str(data[\"URL\"].loc[data[\"On_Kamera_cozunurlu\"].idxmin()]))\n",
    "print(\"Min Arka Kamera: \"+str(data[\"Arka_Kamera_Cozunurlugu\"].min()) + \" MP --> \"+ str(data[\"URL\"].loc[data[\"Arka_Kamera_Cozunurlugu\"].idxmin()]))\n",
    "print(\"Min Bellek Kapasitesi: \"+str(data[\"Bellek_Kapasitesi\"].min()) + \" GB --> \"+ str(data[\"URL\"].loc[data[\"Bellek_Kapasitesi\"].idxmin()]))\n",
    "print(\"Min Batarya Kapasitesi: \"+str(data[\"Batarya_Kapasitesi\"].min()) + \" mAh --> \"+ str(data[\"URL\"].loc[data[\"Batarya_Kapasitesi\"].idxmin()]))\n",
    "print(\"Min Dahili Hafıza: \"+str(data[\"Dahili_Hafiza\"].min()) + \" GB --> \"+ str(data[\"URL\"].loc[data[\"Dahili_Hafiza\"].idxmin()]))"
   ]
  },
  {
   "cell_type": "code",
   "execution_count": null,
   "metadata": {},
   "outputs": [],
   "source": []
  }
 ],
 "metadata": {
  "kernelspec": {
   "display_name": "Python 3",
   "language": "python",
   "name": "python3"
  },
  "language_info": {
   "codemirror_mode": {
    "name": "ipython",
    "version": 3
   },
   "file_extension": ".py",
   "mimetype": "text/x-python",
   "name": "python",
   "nbconvert_exporter": "python",
   "pygments_lexer": "ipython3",
   "version": "3.8.3"
  }
 },
 "nbformat": 4,
 "nbformat_minor": 4
}
