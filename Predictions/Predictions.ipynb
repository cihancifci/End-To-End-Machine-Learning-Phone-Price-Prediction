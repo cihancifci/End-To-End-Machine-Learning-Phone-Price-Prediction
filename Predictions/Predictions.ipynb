{
 "cells": [
  {
   "cell_type": "code",
   "execution_count": 1,
   "metadata": {},
   "outputs": [],
   "source": [
    "import pandas as pd\n",
    "import numpy as np\n",
    "import joblib"
   ]
  },
  {
   "cell_type": "code",
   "execution_count": 38,
   "metadata": {},
   "outputs": [],
   "source": [
    "dt_model = joblib.load(\"../Models/phones_decision_tree_model.pkl\")\n",
    "mlinear_model = joblib.load(\"../Models/phones_multiple_linear_model.pkl\")\n",
    "rf_model = joblib.load(\"../Models/phones_random_forest_model.pkl\")"
   ]
  },
  {
   "cell_type": "code",
   "execution_count": 4,
   "metadata": {},
   "outputs": [],
   "source": [
    "markalar = pd.read_csv(\"../data/markalar.csv\")"
   ]
  },
  {
   "cell_type": "code",
   "execution_count": 5,
   "metadata": {},
   "outputs": [
    {
     "data": {
      "text/html": [
       "<div>\n",
       "<style scoped>\n",
       "    .dataframe tbody tr th:only-of-type {\n",
       "        vertical-align: middle;\n",
       "    }\n",
       "\n",
       "    .dataframe tbody tr th {\n",
       "        vertical-align: top;\n",
       "    }\n",
       "\n",
       "    .dataframe thead th {\n",
       "        text-align: right;\n",
       "    }\n",
       "</style>\n",
       "<table border=\"1\" class=\"dataframe\">\n",
       "  <thead>\n",
       "    <tr style=\"text-align: right;\">\n",
       "      <th></th>\n",
       "      <th>Markalar</th>\n",
       "    </tr>\n",
       "  </thead>\n",
       "  <tbody>\n",
       "    <tr>\n",
       "      <th>0</th>\n",
       "      <td>Alcatel</td>\n",
       "    </tr>\n",
       "    <tr>\n",
       "      <th>1</th>\n",
       "      <td>Apple</td>\n",
       "    </tr>\n",
       "    <tr>\n",
       "      <th>2</th>\n",
       "      <td>C5Mobile</td>\n",
       "    </tr>\n",
       "    <tr>\n",
       "      <th>3</th>\n",
       "      <td>Casper</td>\n",
       "    </tr>\n",
       "    <tr>\n",
       "      <th>4</th>\n",
       "      <td>Elephone</td>\n",
       "    </tr>\n",
       "    <tr>\n",
       "      <th>5</th>\n",
       "      <td>GeneralMobile</td>\n",
       "    </tr>\n",
       "    <tr>\n",
       "      <th>6</th>\n",
       "      <td>Hiking</td>\n",
       "    </tr>\n",
       "    <tr>\n",
       "      <th>7</th>\n",
       "      <td>Honor</td>\n",
       "    </tr>\n",
       "    <tr>\n",
       "      <th>8</th>\n",
       "      <td>Huawei</td>\n",
       "    </tr>\n",
       "    <tr>\n",
       "      <th>9</th>\n",
       "      <td>Infinix</td>\n",
       "    </tr>\n",
       "    <tr>\n",
       "      <th>10</th>\n",
       "      <td>LG</td>\n",
       "    </tr>\n",
       "    <tr>\n",
       "      <th>11</th>\n",
       "      <td>Lenovo</td>\n",
       "    </tr>\n",
       "    <tr>\n",
       "      <th>12</th>\n",
       "      <td>Meizu</td>\n",
       "    </tr>\n",
       "    <tr>\n",
       "      <th>13</th>\n",
       "      <td>Oppo</td>\n",
       "    </tr>\n",
       "    <tr>\n",
       "      <th>14</th>\n",
       "      <td>OppoRealme</td>\n",
       "    </tr>\n",
       "    <tr>\n",
       "      <th>15</th>\n",
       "      <td>Poco</td>\n",
       "    </tr>\n",
       "    <tr>\n",
       "      <th>16</th>\n",
       "      <td>Reeder</td>\n",
       "    </tr>\n",
       "    <tr>\n",
       "      <th>17</th>\n",
       "      <td>Samsung</td>\n",
       "    </tr>\n",
       "    <tr>\n",
       "      <th>18</th>\n",
       "      <td>Tcl</td>\n",
       "    </tr>\n",
       "    <tr>\n",
       "      <th>19</th>\n",
       "      <td>Turkcell</td>\n",
       "    </tr>\n",
       "    <tr>\n",
       "      <th>20</th>\n",
       "      <td>Vestel</td>\n",
       "    </tr>\n",
       "    <tr>\n",
       "      <th>21</th>\n",
       "      <td>Xiaomi</td>\n",
       "    </tr>\n",
       "  </tbody>\n",
       "</table>\n",
       "</div>"
      ],
      "text/plain": [
       "         Markalar\n",
       "0         Alcatel\n",
       "1           Apple\n",
       "2        C5Mobile\n",
       "3          Casper\n",
       "4        Elephone\n",
       "5   GeneralMobile\n",
       "6          Hiking\n",
       "7           Honor\n",
       "8          Huawei\n",
       "9         Infinix\n",
       "10             LG\n",
       "11         Lenovo\n",
       "12          Meizu\n",
       "13           Oppo\n",
       "14     OppoRealme\n",
       "15           Poco\n",
       "16         Reeder\n",
       "17        Samsung\n",
       "18            Tcl\n",
       "19       Turkcell\n",
       "20         Vestel\n",
       "21         Xiaomi"
      ]
     },
     "execution_count": 5,
     "metadata": {},
     "output_type": "execute_result"
    }
   ],
   "source": [
    "markalar"
   ]
  },
  {
   "cell_type": "code",
   "execution_count": 10,
   "metadata": {},
   "outputs": [],
   "source": [
    "def marka_index(marka):\n",
    "    index = int(markalar[markalar[\"Markalar\"]==marka].index.values)\n",
    "    return index"
   ]
  },
  {
   "cell_type": "code",
   "execution_count": 20,
   "metadata": {},
   "outputs": [],
   "source": [
    "def create_prediction_value(marka,isletim_sistemi,dahili_hafiza,on_kamera,arka_kamera,bellek_kapasitesi,batarya_kapasitesi):\n",
    "    res = pd.DataFrame(data = \n",
    "            {'Marka':[marka],'Isletim_Sistemi':[isletim_sistemi],'Dahili_Hafiza':[dahili_hafiza],\n",
    "             'On_Kamera_Cozunurlugu':[on_kamera],'Arka_Kamera_Cozunurlugu':[arka_kamera],\n",
    "              'Bellek_Kapasitesi':[bellek_kapasitesi],'Batarya_Kapasitesi':[batarya_kapasitesi]})\n",
    "    return res"
   ]
  },
  {
   "cell_type": "code",
   "execution_count": 22,
   "metadata": {},
   "outputs": [],
   "source": [
    "def isletim_sistemi(isletim_sistemi):\n",
    "    if isletim_sistemi == \"iOS\":\n",
    "        return 1\n",
    "    else:\n",
    "        return 0"
   ]
  },
  {
   "cell_type": "code",
   "execution_count": 39,
   "metadata": {},
   "outputs": [],
   "source": [
    "def predict_models(res):\n",
    "    print(\"Decision Tree Result : \"+ str(int(dt_model.predict(res))).strip('[]') +\" TL\" )\n",
    "    print(\"Multiple Linear Result : \"+ str(int(mlinear_model.predict(res))).strip('[]') +\" TL\" )\n",
    "    print(\"Random Forest Result : \"+ str(int(rf_model.predict(res))).strip('[]') +\" TL\" )"
   ]
  },
  {
   "cell_type": "code",
   "execution_count": 40,
   "metadata": {},
   "outputs": [
    {
     "name": "stdout",
     "output_type": "stream",
     "text": [
      "Decision Tree Result : 4332 TL\n",
      "Multiple Linear Result : 3341 TL\n",
      "Random Forest Result : 3966 TL\n"
     ]
    }
   ],
   "source": [
    "#Xiaomi,Android,128 GB Dahili Hafıza,32 MP Ön Kamera, 64 MP Arka Kamera, 8 GB Bellek Kapasitesi, 6000 mAh Batarya Kapasitesi\n",
    "predict_value= create_prediction_value(marka_index(\"Xiaomi\"),isletim_sistemi(\"Android\"),128,32,64,8,6000)\n",
    "predict_models(predict_value)"
   ]
  },
  {
   "cell_type": "code",
   "execution_count": 41,
   "metadata": {},
   "outputs": [
    {
     "name": "stdout",
     "output_type": "stream",
     "text": [
      "Decision Tree Result : 4332 TL\n",
      "Multiple Linear Result : 4976 TL\n",
      "Random Forest Result : 4067 TL\n"
     ]
    }
   ],
   "source": [
    "#Samsung,Android,128 GB Dahili Hafıza,32 MP Ön Kamera, 64 MP Arka Kamera, 8 GB Bellek Kapasitesi, 6000 mAh Batarya Kapasitesi\n",
    "predict_value= create_prediction_value(marka_index(\"Samsung\"),isletim_sistemi(\"Android\"),128,32,64,8,6000)\n",
    "predict_models(predict_value)"
   ]
  },
  {
   "cell_type": "code",
   "execution_count": 44,
   "metadata": {},
   "outputs": [
    {
     "name": "stdout",
     "output_type": "stream",
     "text": [
      "Decision Tree Result : 8099 TL\n",
      "Multiple Linear Result : 10560 TL\n",
      "Random Forest Result : 8099 TL\n"
     ]
    }
   ],
   "source": [
    "#Apple,iOS,128 GB Dahili Hafıza,12 MP Ön Kamera, 12 MP Arka Kamera, 4 GB Bellek Kapasitesi, 3046 mAh Batarya Kapasitesi\n",
    "predict_value= create_prediction_value(marka_index(\"Apple\"),isletim_sistemi(\"iOS\"),128,12,12,4,3046)\n",
    "predict_models(predict_value)"
   ]
  },
  {
   "cell_type": "code",
   "execution_count": null,
   "metadata": {},
   "outputs": [],
   "source": []
  }
 ],
 "metadata": {
  "kernelspec": {
   "display_name": "Python 3",
   "language": "python",
   "name": "python3"
  },
  "language_info": {
   "codemirror_mode": {
    "name": "ipython",
    "version": 3
   },
   "file_extension": ".py",
   "mimetype": "text/x-python",
   "name": "python",
   "nbconvert_exporter": "python",
   "pygments_lexer": "ipython3",
   "version": "3.8.3"
  }
 },
 "nbformat": 4,
 "nbformat_minor": 4
}
